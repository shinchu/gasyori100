{
 "cells": [
  {
   "cell_type": "code",
   "execution_count": 186,
   "id": "2b78a74f-0a63-4cce-a221-0f407a91eb70",
   "metadata": {},
   "outputs": [],
   "source": [
    "import itertools\n",
    "import numpy as np\n",
    "import cv2\n",
    "import matplotlib.pyplot as plt\n",
    "from skimage import io"
   ]
  },
  {
   "cell_type": "code",
   "execution_count": 187,
   "id": "64cc56cc-003b-4059-a374-8ce3c70efab0",
   "metadata": {},
   "outputs": [],
   "source": [
    "plt.rcParams['font.family'] = 'Hiragino Sans'"
   ]
  },
  {
   "cell_type": "markdown",
   "id": "c78fd1ae-6c1a-48c3-bc47-2ac5885dc2f7",
   "metadata": {},
   "source": [
    "## Question 61 4-連結数"
   ]
  },
  {
   "cell_type": "markdown",
   "id": "f4108ad2-e9fc-494b-9150-ea370f3d17e4",
   "metadata": {},
   "source": [
    "connect_sample.png を4-連結数により、色分けせよ。\n",
    "\n",
    "4-連結数とは近傍との画素の状態を見る値である。 通常、近傍は注目画素x0(x,y)が0でない場合に対して、次のように定義される。\n",
    "\n",
    "* x4(x-1,y-1) x3(x,y-1) x2(x+1,y-1)\n",
    "* x5(x-1,y) x0(x,y) x1(x+1,y)\n",
    "* x6(x-1,y+1) x7(x,y+1) x8(x+1,y+1)\n",
    "ここで4連結数とは、次式で計算される。\n",
    "\n",
    "||||\n",
    "|---|---|---|\n",
    "|x4|x3|x2|\n",
    "|x5|x0|x1|\n",
    "|x6|x7|x8|\n",
    "\n",
    "\n",
    "* S = (x1 - x1 x2 x3) + (x3 - x3 x4 x5) + (x5 - x5 x6 x7) + (x7 - x7 x8 x1)\n",
    "\n",
    "S = [0,4]の範囲をとり、\n",
    "\n",
    "* S = 0 は内部点/孤立点\n",
    "* S = 1 は端点\n",
    "* S = 2 は連結点\n",
    "* S = 3 は分岐点\n",
    "* S = 4 は交差点\n",
    "\n",
    "を示す。\n",
    "\n",
    "#### 内部点/孤立点（S = 0）\n",
    "\n",
    "||||\n",
    "|---|---|---|\n",
    "|1|1|1|\n",
    "|1|1*|1|\n",
    "|1|1|1|\n",
    "\n",
    "||||\n",
    "|---|---|---|\n",
    "|0|0|0|\n",
    "|0|1*|0|\n",
    "|0|0|0|\n",
    "\n",
    "\n",
    "||||\n",
    "|---|---|---|\n",
    "|1|0|1|\n",
    "|0|1*|0|\n",
    "|1|0|1|\n",
    "\n",
    "\n",
    "#### 端点（S = 1）\n",
    "\n",
    "||||\n",
    "|---|---|---|\n",
    "|0|1|0|\n",
    "|0|1*|0|\n",
    "|0|0|0|\n",
    "\n",
    "||||\n",
    "|---|---|---|\n",
    "|0|1|1|\n",
    "|1|1*|1|\n",
    "|1|1|1|\n",
    "\n",
    "||||\n",
    "|---|---|---|\n",
    "|0|0|0|\n",
    "|0|1*|1|\n",
    "|0|1|1|\n",
    "\n",
    "||||\n",
    "|---|---|---|\n",
    "|0|0|0|\n",
    "|0|1*|1|\n",
    "|1|1|1|\n",
    "\n",
    "||||\n",
    "|---|---|---|\n",
    "|0|0|0|\n",
    "|1|1*|1|\n",
    "|1|1|1|\n",
    "\n",
    "\n",
    "#### 連結点（S = 2）\n",
    "\n",
    "||||\n",
    "|---|---|---|\n",
    "|0|1|0|\n",
    "|0|1*|0|\n",
    "|0|1|0|\n",
    "\n",
    "||||\n",
    "|---|---|---|\n",
    "|0|0|0|\n",
    "|0|1*|1|\n",
    "|0|1|0|\n",
    "\n",
    "||||\n",
    "|---|---|---|\n",
    "|1|0|1|\n",
    "|1|1*|1|\n",
    "|0|1|1|\n",
    "\n",
    "\n",
    "#### 分岐点（S = 3）\n",
    "\n",
    "||||\n",
    "|---|---|---|\n",
    "|1|0|1|\n",
    "|1|1*|1|\n",
    "|0|1|0|\n",
    "\n",
    "\n",
    "||||\n",
    "|---|---|---|\n",
    "|0|0|0|\n",
    "|1|1*|1|\n",
    "|0|1|0|\n",
    "\n",
    "\n",
    "#### 交差点（S = 4）\n",
    "\n",
    "||||\n",
    "|---|---|---|\n",
    "|0|1|0|\n",
    "|1|1*|1|\n",
    "|0|1|0|\n"
   ]
  },
  {
   "cell_type": "code",
   "execution_count": 188,
   "id": "999ce6ff-5add-4900-9ffa-943f8b9487ca",
   "metadata": {},
   "outputs": [],
   "source": [
    "def connect_4(img):\n",
    "    h, w = img.shape\n",
    "    \n",
    "    tmp = np.zeros((h, w), dtype=int)\n",
    "    \n",
    "    tmp[img > 0] = 1\n",
    "    \n",
    "    out = np.zeros((h, w, 3), dtype=np.uint8)\n",
    "    \n",
    "    for y in range(h):\n",
    "        for x in range(w):\n",
    "            if tmp[y, x] == 0:\n",
    "                continue\n",
    "            \n",
    "            x1 = tmp[y, min(x+1, w-1)]\n",
    "            x2 = tmp[max(y-1, 0), min(x+1, w-1)]\n",
    "            x3 = tmp[max(y-1, 0), x]\n",
    "            x4 = tmp[max(y-1, 0), max(x-1, 0)]\n",
    "            x5 = tmp[y, max(x-1, 0)]\n",
    "            x6 = tmp[min(y+1, h-1), max(x-1, 0)]\n",
    "            x7 = tmp[min(y+1, h-1), x]\n",
    "            x8 = tmp[min(y+1, h-1), min(x+1, w-1)]\n",
    "            \n",
    "            S = (x1 - x1 * x2 * x3) + (x3 - x3 * x4 * x5) + (x5 - x5 * x6 * x7) + (x7 - x7 * x8 * x1)\n",
    "            \n",
    "            if S == 0:\n",
    "                out[y, x] = [0, 0, 255]\n",
    "            elif S == 1:\n",
    "                out[y, x] = [0, 255, 0]\n",
    "            elif S == 2:\n",
    "                out[y, x] = [255, 0, 0]\n",
    "            elif S == 3:\n",
    "                out[y, x] = [255, 255, 0]\n",
    "            elif S == 4:\n",
    "                out[y, x] = [255, 0, 255]\n",
    "            \n",
    "    out = out.astype(np.uint8)\n",
    "    return out"
   ]
  },
  {
   "cell_type": "code",
   "execution_count": 189,
   "id": "07b097fe-adb4-4594-86c2-b3f428a6b787",
   "metadata": {},
   "outputs": [],
   "source": [
    "img_connect = io.imread(\"https://github.com/yoyoyo-yo/Gasyori100knock/blob/master/dataset/images/connect_sample.png?raw=true\")"
   ]
  },
  {
   "cell_type": "code",
   "execution_count": 190,
   "id": "04785ade-7c7f-4199-a9f8-9f2b5973339a",
   "metadata": {},
   "outputs": [
    {
     "data": {
      "text/plain": [
       "<matplotlib.image.AxesImage at 0x14327d610>"
      ]
     },
     "execution_count": 190,
     "metadata": {},
     "output_type": "execute_result"
    },
    {
     "data": {
      "image/png": "[encoded data removed]",
      "text/plain": [
       "<Figure size 576x360 with 2 Axes>"
      ]
     },
     "metadata": {
      "needs_background": "light"
     },
     "output_type": "display_data"
    }
   ],
   "source": [
    "plt.figure(figsize=(8, 5))\n",
    "plt.subplot(1, 2, 1)\n",
    "plt.imshow(img_connect, cmap=\"gray\")\n",
    "plt.subplot(1, 2, 2)\n",
    "plt.imshow(connect_4(img_connect))"
   ]
  },
  {
   "cell_type": "markdown",
   "id": "888ba0f4-069d-47ea-8e37-098de1430a4c",
   "metadata": {},
   "source": [
    "## Question 62 8-連結数"
   ]
  },
  {
   "cell_type": "markdown",
   "id": "3f0387ad-6ef6-4321-8c30-319ca0e718c2",
   "metadata": {},
   "source": [
    "connect_sample.pngを8-連結数により、色分けせよ。\n",
    "\n",
    "8連結数とは\n",
    "\n",
    "S = (x1 - x1 x2 x3) + (x3 - x3 x4 x5) + (x5 - x5 x6 x7) + (x7 - x7 x8 x1)\n",
    "\n",
    "において各xの値の0と1を反転させた値を用いる。\n",
    "\n",
    "\n",
    "#### 内部点/孤立点（S = 0）\n",
    "\n",
    "||||\n",
    "|---|---|---|\n",
    "|1|1|1|\n",
    "|1|1*|1|\n",
    "|1|1|1|\n",
    "\n",
    "||||\n",
    "|---|---|---|\n",
    "|0|0|0|\n",
    "|0|1*|0|\n",
    "|0|0|0|\n",
    "\n",
    "\n",
    "||||\n",
    "|---|---|---|\n",
    "|0|1|0|\n",
    "|1|1*|1|\n",
    "|0|1|0|\n",
    "\n",
    "\n",
    "||||\n",
    "|---|---|---|\n",
    "|0|1|1|\n",
    "|1|1*|1|\n",
    "|1|1|1|\n",
    "\n",
    "\n",
    "#### 端点（S = 1）\n",
    "\n",
    "||||\n",
    "|---|---|---|\n",
    "|0|1|0|\n",
    "|0|1*|0|\n",
    "|0|0|0|\n",
    "\n",
    "||||\n",
    "|---|---|---|\n",
    "|0|1|1|\n",
    "|0|1*|1|\n",
    "|1|1|1|\n",
    "\n",
    "||||\n",
    "|---|---|---|\n",
    "|0|0|0|\n",
    "|0|1*|1|\n",
    "|0|1|1|\n",
    "\n",
    "||||\n",
    "|---|---|---|\n",
    "|0|0|0|\n",
    "|0|1*|1|\n",
    "|1|1|1|\n",
    "\n",
    "||||\n",
    "|---|---|---|\n",
    "|0|0|0|\n",
    "|1|1*|1|\n",
    "|1|1|1|\n",
    "\n",
    "||||\n",
    "|---|---|---|\n",
    "|0|0|0|\n",
    "|0|1*|1|\n",
    "|0|1|0|\n",
    "\n",
    "||||\n",
    "|---|---|---|\n",
    "|1|0|1|\n",
    "|1|1*|1|\n",
    "|0|1|1|\n",
    "\n",
    "||||\n",
    "|---|---|---|\n",
    "|1|0|1|\n",
    "|1|1*|1|\n",
    "|0|1|0|\n",
    "\n",
    "||||\n",
    "|---|---|---|\n",
    "|0|0|0|\n",
    "|1|1*|1|\n",
    "|0|1|0|\n",
    "\n",
    "#### 連結点（S = 2）\n",
    "\n",
    "||||\n",
    "|---|---|---|\n",
    "|0|1|0|\n",
    "|0|1*|0|\n",
    "|0|1|0|\n",
    "\n",
    "||||\n",
    "|---|---|---|\n",
    "|1|0|0|\n",
    "|0|1*|0|\n",
    "|0|0|1|\n",
    "\n",
    "||||\n",
    "|---|---|---|\n",
    "|1|0|0|\n",
    "|0|1*|0|\n",
    "|0|1|0|\n",
    "\n",
    "#### 分岐点（S = 3）\n",
    "\n",
    "||||\n",
    "|---|---|---|\n",
    "|1|0|1|\n",
    "|0|1*|0|\n",
    "|1|1|0|\n",
    "\n",
    "||||\n",
    "|---|---|---|\n",
    "|1|0|1|\n",
    "|0|1*|0|\n",
    "|1|1|1|\n",
    "\n",
    "||||\n",
    "|---|---|---|\n",
    "|1|0|1|\n",
    "|0|1*|0|\n",
    "|1|0|0|\n",
    "\n",
    "||||\n",
    "|---|---|---|\n",
    "|1|0|1|\n",
    "|0|1*|0|\n",
    "|0|1|0|\n",
    "\n",
    "#### 交差点（S = 4）\n",
    "\n",
    "||||\n",
    "|---|---|---|\n",
    "|1|0|1|\n",
    "|0|1*|0|\n",
    "|1|0|1|\n",
    "\n",
    "\n",
    "**消去可能なのは8-連結数が1の画素**\n"
   ]
  },
  {
   "cell_type": "code",
   "execution_count": 191,
   "id": "b8116a0d-bfa1-4b03-8eff-928529e06249",
   "metadata": {},
   "outputs": [],
   "source": [
    "def connect_8(img):\n",
    "    h, w = img.shape\n",
    "    \n",
    "    tmp = np.zeros((h, w), dtype=int)\n",
    "    tmp[img > 0] = 1\n",
    "    tmp = 1 - tmp\n",
    "    \n",
    "    out = np.zeros((h, w, 3), dtype=np.uint8)\n",
    "    \n",
    "    for y in range(h):\n",
    "        for x in range(w):\n",
    "            if tmp[y, x] == 1:\n",
    "                continue\n",
    "            \n",
    "            x1 = tmp[y, min(x+1, w-1)]\n",
    "            x2 = tmp[max(y-1, 0), min(x+1, w-1)]\n",
    "            x3 = tmp[max(y-1, 0), x]\n",
    "            x4 = tmp[max(y-1, 0), max(x-1, 0)]\n",
    "            x5 = tmp[y, max(x-1, 0)]\n",
    "            x6 = tmp[min(y+1, h-1), max(x-1, 0)]\n",
    "            x7 = tmp[min(y+1, h-1), x]\n",
    "            x8 = tmp[min(y+1, h-1), min(x+1, w-1)]\n",
    "            \n",
    "            S = (x1 - x1 * x2 * x3) + (x3 - x3 * x4 * x5) + (x5 - x5 * x6 * x7) + (x7 - x7 * x8 * x1)\n",
    "            \n",
    "            if S == 0:\n",
    "                out[y, x] = [0, 0, 255]\n",
    "            elif S == 1:\n",
    "                out[y, x] = [0, 255, 0]\n",
    "            elif S == 2:\n",
    "                out[y, x] = [255, 0, 0]\n",
    "            elif S == 3:\n",
    "                out[y, x] = [255, 255, 0]\n",
    "            elif S == 4:\n",
    "                out[y, x] = [255, 0, 255]\n",
    "            \n",
    "    out = out.astype(np.uint8)\n",
    "    return out"
   ]
  },
  {
   "cell_type": "code",
   "execution_count": 192,
   "id": "5faf9e17-4db6-4083-88a4-c77f76d804c9",
   "metadata": {},
   "outputs": [
    {
     "data": {
      "text/plain": [
       "<matplotlib.image.AxesImage at 0x14348e8e0>"
      ]
     },
     "execution_count": 192,
     "metadata": {},
     "output_type": "execute_result"
    },
    {
     "data": {
      "image/png": "[encoded data removed]",
      "text/plain": [
       "<Figure size 576x360 with 2 Axes>"
      ]
     },
     "metadata": {
      "needs_background": "light"
     },
     "output_type": "display_data"
    }
   ],
   "source": [
    "plt.figure(figsize=(8, 5))\n",
    "plt.subplot(1, 2, 1)\n",
    "plt.imshow(img_connect, cmap=\"gray\")\n",
    "plt.subplot(1, 2, 2)\n",
    "plt.imshow(connect_8(img_connect))"
   ]
  },
  {
   "cell_type": "code",
   "execution_count": 205,
   "id": "0492d0b1-a60b-4708-b097-7f1af10bfd8e",
   "metadata": {},
   "outputs": [],
   "source": [
    "def connect_4(img):\n",
    "    h, w = img.shape\n",
    "    \n",
    "    tmp = np.zeros((h, w), dtype=int)\n",
    "    \n",
    "    tmp[img > 0] = 1\n",
    "    \n",
    "    out = np.stack((img,) * 3, axis=-1)\n",
    "    \n",
    "    y = 1\n",
    "    x = 1\n",
    "    \n",
    "    S = None\n",
    "\n",
    "    if tmp[y, x] == 1:\n",
    "            \n",
    "        x1 = tmp[y, min(x+1, w-1)]\n",
    "        x2 = tmp[max(y-1, 0), min(x+1, w-1)]\n",
    "        x3 = tmp[max(y-1, 0), x]\n",
    "        x4 = tmp[max(y-1, 0), max(x-1, 0)]\n",
    "        x5 = tmp[y, max(x-1, 0)]\n",
    "        x6 = tmp[min(y+1, h-1), max(x-1, 0)]\n",
    "        x7 = tmp[min(y+1, h-1), x]\n",
    "        x8 = tmp[min(y+1, h-1), min(x+1, w-1)]\n",
    "\n",
    "        S = (x1 - x1 * x2 * x3) + (x3 - x3 * x4 * x5) + (x5 - x5 * x6 * x7) + (x7 - x7 * x8 * x1)\n",
    "\n",
    "    return (S, (out * 255).astype(np.uint8))\n",
    "\n",
    "\n",
    "def connect_8(img):\n",
    "    h, w = img.shape\n",
    "    \n",
    "    tmp = np.zeros((h, w), dtype=int)\n",
    "    tmp[img > 0] = 1\n",
    "    tmp = 1 - tmp\n",
    "    \n",
    "    out = np.stack((img,) * 3, axis=-1)\n",
    "    \n",
    "    y = 1\n",
    "    x = 1\n",
    "    \n",
    "    S = None\n",
    "   \n",
    "    if tmp[y, x] == 0:\n",
    "\n",
    "        x1 = tmp[y, min(x+1, w-1)]\n",
    "        x2 = tmp[max(y-1, 0), min(x+1, w-1)]\n",
    "        x3 = tmp[max(y-1, 0), x]\n",
    "        x4 = tmp[max(y-1, 0), max(x-1, 0)]\n",
    "        x5 = tmp[y, max(x-1, 0)]\n",
    "        x6 = tmp[min(y+1, h-1), max(x-1, 0)]\n",
    "        x7 = tmp[min(y+1, h-1), x]\n",
    "        x8 = tmp[min(y+1, h-1), min(x+1, w-1)]\n",
    "\n",
    "        S = (x1 - x1 * x2 * x3) + (x3 - x3 * x4 * x5) + (x5 - x5 * x6 * x7) + (x7 - x7 * x8 * x1)\n",
    "            \n",
    "    return (S, (out * 255).astype(np.uint8))\n",
    "\n",
    "\n",
    "connectivity = ['内部点/孤立点', '端点', '連結点', '分岐点', '交差点']"
   ]
  },
  {
   "cell_type": "code",
   "execution_count": 194,
   "id": "8ca51b5c-e704-4496-885d-024f1cffc357",
   "metadata": {},
   "outputs": [],
   "source": [
    "S_res_4 = [np.zeros((3, 3, 3)) for _ in range(5)]\n",
    "S_res_8 = [np.zeros((3, 3, 3)) for _ in range(5)]\n",
    "pad = np.zeros((3, 1, 3))\n",
    "\n",
    "for item in itertools.product([0, 1], repeat=9):\n",
    "    img = np.array(item).reshape(-1, 3)\n",
    "    S, res = connect_4(img)\n",
    "    if S is not None:\n",
    "        if np.sum(S_res_4[S]) == 0:\n",
    "            S_res_4[S] = res\n",
    "        else:\n",
    "            S_res_4[S] = np.concatenate([S_res_4[S], pad, res], 1)\n",
    "    S, res = connect_8(img)\n",
    "    if S is not None:\n",
    "        if np.sum(S_res_8[S]) == 0:\n",
    "            S_res_8[S] = res\n",
    "        else:\n",
    "            S_res_8[S] = np.concatenate([S_res_8[S], pad, res], 1)"
   ]
  },
  {
   "cell_type": "code",
   "execution_count": 195,
   "id": "6244bb19-f80c-417a-8874-aafcd133b8f7",
   "metadata": {},
   "outputs": [
    {
     "data": {
      "image/png": "[encoded data removed]",
      "text/plain": [
       "<Figure size 3600x720 with 1 Axes>"
      ]
     },
     "metadata": {
      "needs_background": "light"
     },
     "output_type": "display_data"
    },
    {
     "data": {
      "image/png": "[encoded data removed]",
      "text/plain": [
       "<Figure size 3600x720 with 1 Axes>"
      ]
     },
     "metadata": {
      "needs_background": "light"
     },
     "output_type": "display_data"
    },
    {
     "data": {
      "image/png": "[encoded data removed]",
      "text/plain": [
       "<Figure size 14400x720 with 1 Axes>"
      ]
     },
     "metadata": {
      "needs_background": "light"
     },
     "output_type": "display_data"
    },
    {
     "data": {
      "image/png": "[encoded data removed]",
      "text/plain": [
       "<Figure size 14400x720 with 1 Axes>"
      ]
     },
     "metadata": {
      "needs_background": "light"
     },
     "output_type": "display_data"
    },
    {
     "data": {
      "image/png": "[encoded data removed]",
      "text/plain": [
       "<Figure size 14400x720 with 1 Axes>"
      ]
     },
     "metadata": {
      "needs_background": "light"
     },
     "output_type": "display_data"
    },
    {
     "data": {
      "image/png": "[encoded data removed]",
      "text/plain": [
       "<Figure size 14400x720 with 1 Axes>"
      ]
     },
     "metadata": {
      "needs_background": "light"
     },
     "output_type": "display_data"
    },
    {
     "data": {
      "image/png": "[encoded data removed]",
      "text/plain": [
       "<Figure size 3600x720 with 1 Axes>"
      ]
     },
     "metadata": {
      "needs_background": "light"
     },
     "output_type": "display_data"
    },
    {
     "data": {
      "image/png": "[encoded data removed]",
      "text/plain": [
       "<Figure size 3600x720 with 1 Axes>"
      ]
     },
     "metadata": {
      "needs_background": "light"
     },
     "output_type": "display_data"
    },
    {
     "data": {
      "image/png": "[encoded data removed]",
      "text/plain": [
       "<Figure size 432x288 with 1 Axes>"
      ]
     },
     "metadata": {
      "needs_background": "light"
     },
     "output_type": "display_data"
    },
    {
     "data": {
      "image/png": "[encoded data removed]",
      "text/plain": [
       "<Figure size 432x288 with 1 Axes>"
      ]
     },
     "metadata": {
      "needs_background": "light"
     },
     "output_type": "display_data"
    }
   ],
   "source": [
    "for i in range(5):\n",
    "    if i in [1, 2]:\n",
    "        plt.figure(figsize=(200, 10))\n",
    "    elif i in [0, 3]:\n",
    "        plt.figure(figsize=(50, 10))\n",
    "    plt.imshow(S_res_4[i].astype(np.uint8))\n",
    "    plt.title(f'4連結数 {connectivity[i]} (S = {i})')\n",
    "    plt.show()\n",
    "    if i in [1, 2]:\n",
    "        plt.figure(figsize=(200, 10))\n",
    "    elif i in [0, 3]:\n",
    "        plt.figure(figsize=(50, 10))\n",
    "    plt.imshow(S_res_8[i].astype(np.uint8))\n",
    "    plt.title(f'8連結数 {connectivity[i]} (S = {i})')\n",
    "    plt.show()"
   ]
  },
  {
   "cell_type": "markdown",
   "id": "44932182-cfd8-480e-9eaa-33be380a58ec",
   "metadata": {},
   "source": [
    "## Question 63 細線化処理"
   ]
  },
  {
   "cell_type": "markdown",
   "id": "1ae921c4-5f98-463a-b359-2ff9e17f161c",
   "metadata": {},
   "source": [
    "gazo_sample.png を細線化せよ。\n",
    "\n",
    "> 細線化とは、2値化された画像を対象に行われ、白（黒）画素の領域（図形）をその中心の1画素からなる線分に収縮させる操作で、微分画像を2値化してエッジ検出を行う際などに行われる。また、細い帯状の図形では機会設計図などを除けば、その線幅に含まれる情報よりその図形の中心線の位置や形に含まれる情報（端点、分岐点など）が重要になる場合が多い。細線化を行うには、次の点が考慮されねばならない。\n",
    ">\n",
    "> - 線幅：細線化されたときの線幅は1であること\n",
    "> - 位置：線の位置はもとの図形の中心にあること\n",
    "> - 連続性：もとの図形の連続性（トポロジカルな性質）を保存すること\n",
    "> - 安定性：端点を削りすぎないこと\n",
    "> - 耐雑音性：図形周辺部の小さなギザギザ（形状雑音）に影響されないこと\n",
    ">\n",
    "> 細線化処理の基本は、上記の五つの条件を満たしながら図形の周辺の画素を順に削って図形の中心に1画素からなる連なりを残すことである。すなわち、着目図形（領域）の境界上の着目画素にそれと同種類の画素がどのように連結しているか、連結数をもとに着目画素がどのような状態（端点、連続点、分岐点、交差点など）にあるかを判断し消去可能なら消去し（図形から背景へ変換）、消去できる画素がなくなるまでこの操作をくり返す。\n",
    "\n",
    "細線化とは画素の幅を1にする処理であり、ここでは次のアルゴリズムに沿って処理を行え。\n",
    "\n",
    "左上からラスタスキャンする。 x0(x,y)=0ならば、処理なし。x0(x,y)=1ならば次の3条件を満たす時にx0=0に変える。\n",
    "\n",
    "* 注目画素の4近傍に0が一つ以上存在する（境界線上にある）\n",
    "* x0の4-連結数が1である（端点である）\n",
    "* x0の8近傍に1が3つ以上存在する（連結性が保存される）\n",
    "\n",
    "1回のラスタスキャンで2の変更数が0になるまで、ラスタスキャンを繰り返す。\n",
    "\n",
    "細線化にはヒルディッチのアルゴリズム(Q.64)や、Zhang-Suenのアルゴリズム(Q.65)、田村のアルゴリズムなどが存在する。"
   ]
  },
  {
   "cell_type": "code",
   "execution_count": 196,
   "id": "64d6abec-befc-4a99-a103-43343a76284e",
   "metadata": {},
   "outputs": [],
   "source": [
    "gazo = io.imread(\"https://github.com/yoyoyo-yo/Gasyori100knock/blob/master/dataset/images/gazo_sample.png?raw=true\")"
   ]
  },
  {
   "cell_type": "code",
   "execution_count": 197,
   "id": "17da3247-1751-416b-8ba9-f741f38c03e8",
   "metadata": {},
   "outputs": [],
   "source": [
    "def thinning(img):\n",
    "    h, w = img.shape\n",
    "    \n",
    "    out = np.zeros((h, w), dtype=int)\n",
    "    out[img > 0] = 1\n",
    "    \n",
    "    count = 1\n",
    "    while count > 0:\n",
    "        count = 0\n",
    "        tmp = out.copy()\n",
    "        \n",
    "        for y in range(h):\n",
    "            for x in range(w):\n",
    "                if out[y, x] == 0:\n",
    "                    continue\n",
    "\n",
    "                condition = 0\n",
    "\n",
    "                x1 = tmp[y, min(x+1, w-1)]\n",
    "                x2 = tmp[max(y-1, 0), min(x+1, w-1)]\n",
    "                x3 = tmp[max(y-1, 0), x]\n",
    "                x4 = tmp[max(y-1, 0), max(x-1, 0)]\n",
    "                x5 = tmp[y, max(x-1, 0)]\n",
    "                x6 = tmp[min(y+1, h-1), max(x-1, 0)]\n",
    "                x7 = tmp[min(y+1, h-1), x]\n",
    "                x8 = tmp[min(y+1, h-1), min(x+1, w-1)]\n",
    "\n",
    "                ## condition 1\n",
    "                if x1 + x3 + x5 + x7 < 4:\n",
    "                    condition += 1\n",
    "\n",
    "                ## condition 2\n",
    "                connect_4 = (x1 - x1 * x2 * x3) + (x3 - x3 * x4 * x5) + (x5 - x5 * x6 * x7) + (x7 - x7 * x8 * x1)\n",
    "                if connect_4 == 1:\n",
    "                    condition += 1\n",
    "                \n",
    "                ## condition 3\n",
    "                if x1 + x2 + x3 + x4 + x5 + x6 + x7 + x8 >= 3:\n",
    "                    condition += 1\n",
    "                \n",
    "                ## if conditions all satisfied\n",
    "                if condition == 3:\n",
    "                    out[y, x] = 0\n",
    "                    count += 1\n",
    "                \n",
    "    out = out.astype(np.uint8)\n",
    "    return out"
   ]
  },
  {
   "cell_type": "code",
   "execution_count": 198,
   "id": "770bdd99-e2f2-4e43-a478-6364a00e87c8",
   "metadata": {},
   "outputs": [
    {
     "data": {
      "text/plain": [
       "<matplotlib.image.AxesImage at 0x1430c1fd0>"
      ]
     },
     "execution_count": 198,
     "metadata": {},
     "output_type": "execute_result"
    },
    {
     "data": {
      "image/png": "[encoded data removed]",
      "text/plain": [
       "<Figure size 864x576 with 2 Axes>"
      ]
     },
     "metadata": {
      "needs_background": "light"
     },
     "output_type": "display_data"
    }
   ],
   "source": [
    "plt.figure(figsize=(12, 8))\n",
    "plt.subplot(1, 2, 1)\n",
    "plt.imshow(gazo, cmap=\"gray\")\n",
    "plt.subplot(1, 2, 2)\n",
    "plt.imshow(thinning(gazo), cmap=\"gray\")"
   ]
  },
  {
   "cell_type": "markdown",
   "id": "6c5258a7-32b1-4a11-b5e5-6e5ebc189332",
   "metadata": {},
   "source": [
    "## Quesiton 64 ヒルディッチの細線化\n",
    "\n"
   ]
  },
  {
   "cell_type": "markdown",
   "id": "785d0cea-596d-4643-89cb-5341674c0b37",
   "metadata": {},
   "source": [
    "gazo_sample.png にヒルディッチの細線化を行え。\n",
    "\n",
    "アルゴリズムは、次の通り。\n",
    "\n",
    "1. 左上からラスタスキャンする。\n",
    "2. x0(x,y)=0ならば、処理なし。x0(x,y)=1ならば次の5条件を満たす時にx0=-1に変える。\n",
    "    - 注目画素の4近傍に0が一つ以上存在する\n",
    "    - x0の8-連結数が1である\n",
    "    - x1〜x8の絶対値の合計が2以上\n",
    "    - x0の8近傍に1が1つ以上存在する\n",
    "    - xn(n=1〜8)全てに対して以下のどちらかが成り立つ\n",
    "        - xnが-1以外\n",
    "        - xnを0とした時、x0の8-連結数が1である\n",
    "3. 各画素の-1を0に変える\n",
    "4. 一回のラスタスキャンで3の変更数が0になるまで、ラスタスキャンを繰り返す。"
   ]
  },
  {
   "cell_type": "markdown",
   "id": "f7a7678c-55b1-476b-b236-3ddea41ec610",
   "metadata": {},
   "source": [
    "Hilditch, C. J. (1967). Linear Skeletons from Square Cupboards. Machine Intelligence, 6, 403–420.\n",
    "\n",
    "A point p will be removed if an only if it satisfies all the following conditions:\n",
    "\n",
    "1. It belongs to Q and its removal is allowed.\n",
    "2. It lies on the the edge of Q, that is, at least one of its axially adjacent neighours x1, x3, x5, x7 does not belong to Q.\n",
    "3. It is not the tip of the thin line, that is, it has more than one neighbour which belongs to Q.\n",
    "4. It is not the last remaining point ot small 'circular' subset, that is, it has at least one neighbour in Q which has not been removed.\n",
    "5. Its removal does not alter connectivity. This will be so if and only if the set comprising those neighbours of p which are in Q consists of one connected component.\n",
    "6. Its removal in conjunction with any one of its neighbours that has been removed does not alter the connectivity of Q ('two thick line' condition)."
   ]
  },
  {
   "cell_type": "code",
   "execution_count": 199,
   "id": "509b665c-6315-4a39-907a-d7cc48412ea3",
   "metadata": {},
   "outputs": [],
   "source": [
    "def hilditch_thinning(img):\n",
    "    # get shape\n",
    "    H, W = img.shape\n",
    "\n",
    "    # prepare out image\n",
    "    out = np.zeros((H, W), dtype=int)\n",
    "    out[img > 0] = 1\n",
    "\n",
    "    # inverse pixel value\n",
    "    tmp = out.copy()\n",
    "    _tmp = 1 - tmp\n",
    "\n",
    "    count = 1\n",
    "    while count > 0:\n",
    "        count = 0\n",
    "        tmp = out.copy()\n",
    "        _tmp = 1 - tmp\n",
    "\n",
    "        tmp2 = out.copy()\n",
    "        _tmp2 = 1 - tmp2\n",
    "        \n",
    "        # each pixel\n",
    "        for y in range(H):\n",
    "            for x in range(W):\n",
    "                # skip black pixel\n",
    "                if out[y, x] < 1:\n",
    "                    continue\n",
    "                \n",
    "                judge = 0\n",
    "                \n",
    "                ## condition 1\n",
    "                if (tmp[y, min(x+1, W-1)] * tmp[max(y-1,0 ), x] * tmp[y, max(x-1, 0)] * tmp[min(y+1, H-1), x]) == 0:\n",
    "                    judge += 1\n",
    "                    \n",
    "                ## condition 2\n",
    "                c = 0\n",
    "                c += (_tmp[y, min(x+1, W-1)] - _tmp[y, min(x+1, W-1)] * _tmp[max(y-1, 0), min(x+1, W-1)] * _tmp[max(y-1, 0), x])\n",
    "                c += (_tmp[max(y-1, 0), x] - _tmp[max(y-1, 0), x] * _tmp[max(y-1, 0), max(x-1, 0)] * _tmp[y, max(x-1, 0)])\n",
    "                c += (_tmp[y, max(x-1, 0)] - _tmp[y, max(x-1, 0)] * _tmp[min(y+1, H-1), max(x-1, 0)] * _tmp[min(y+1, H-1), x])\n",
    "                c += (_tmp[min(y+1, H-1), x] - _tmp[min(y+1, H-1), x] * _tmp[min(y+1, H-1), min(x+1, W-1)] * _tmp[y, min(x+1, W-1)])\n",
    "                if c == 1:\n",
    "                    judge += 1\n",
    "                    \n",
    "                ## condition 3\n",
    "                if np.sum(tmp[max(y-1, 0) : min(y+2, H), max(x-1, 0) : min(x+2, W)]) >= 3:\n",
    "                    judge += 1\n",
    "\n",
    "                ## condition 4\n",
    "                if np.sum(out[max(y-1, 0) : min(y+2, H), max(x-1, 0) : min(x+2, W)]) >= 2:\n",
    "                    judge += 1\n",
    "\n",
    "                ## condition 5\n",
    "                _tmp2 = 1 - out\n",
    "\n",
    "                c = 0\n",
    "                c += (_tmp2[y, min(x+1, W-1)] - _tmp2[y, min(x+1, W-1)] * _tmp2[max(y-1, 0), min(x+1, W-1)] * _tmp2[max(y-1, 0), x])\n",
    "                c += (_tmp2[max(y-1, 0), x] - _tmp2[max(y-1, 0), x] * (1 - tmp[max(y-1, 0), max(x-1, 0)]) * _tmp2[y, max(x-1, 0)])\n",
    "                c += (_tmp2[y, max(x-1, 0)] - _tmp2[y, max(x-1, 0)] * _tmp2[min(y+1, H-1), max(x-1, 0)] * _tmp2[min(y+1, H-1), x])\n",
    "                c += (_tmp2[min(y+1, H-1), x] - _tmp2[min(y+1, H-1), x] * _tmp2[min(y+1, H-1), min(x+1, W-1)] * _tmp2[y, min(x+1, W-1)])\n",
    "                if c == 1 or (out[max(y-1, 0), max(x-1,0 )] != tmp[max(y-1, 0), max(x-1, 0)]):\n",
    "                    judge += 1\n",
    "\n",
    "                c = 0\n",
    "                c += (_tmp2[y, min(x+1, W-1)] - _tmp2[y, min(x+1, W-1)] * _tmp2[max(y-1, 0), min(x+1, W-1)] * (1 - tmp[max(y-1, 0), x]))\n",
    "                c += ((1-tmp[max(y-1, 0), x]) - (1 - tmp[max(y-1, 0), x]) * _tmp2[max(y-1, 0), max(x-1, 0)] * _tmp2[y, max(x-1, 0)])\n",
    "                c += (_tmp2[y, max(x-1,0 )] - _tmp2[y, max(x-1,0 )] * _tmp2[min(y+1, H-1), max(x-1, 0)] * _tmp2[min(y+1, H-1), x])\n",
    "                c += (_tmp2[min(y+1, H-1), x] - _tmp2[min(y+1, H-1), x] * _tmp2[min(y+1, H-1), min(x+1, W-1)] * _tmp2[y, min(x+1, W-1)])\n",
    "                if c == 1 or (out[max(y-1, 0), x] != tmp[max(y-1, 0), x]):\n",
    "                    judge += 1\n",
    "\n",
    "                c = 0\n",
    "                c += (_tmp2[y, min(x+1, W-1)] - _tmp2[y, min(x+1, W-1)] * (1 - tmp[max(y-1, 0), min(x+1, W-1)]) * _tmp2[max(y-1, 0), x])\n",
    "                c += (_tmp2[max(y-1, 0), x] - _tmp2[max(y-1, 0), x] * _tmp2[max(y-1, 0), max(x-1, 0)] * _tmp2[y, max(x-1, 0)])\n",
    "                c += (_tmp2[y, max(x-1, 0)] - _tmp2[y, max(x-1, 0)] * _tmp2[min(y+1, H-1), max(x-1, 0)] * _tmp2[min(y+1, H-1), x])\n",
    "                c += (_tmp2[min(y+1, H-1), x] - _tmp2[min(y+1, H-1), x] * _tmp2[min(y+1, H-1), min(x+1, W-1)] * _tmp2[y, min(x+1, W-1)])\n",
    "                if c == 1 or (out[max(y-1, 0), min(x+1, W-1)] != tmp[max(y-1, 0), min(x+1, W-1)]):\n",
    "                    judge += 1\n",
    "\n",
    "                c = 0\n",
    "                c += (_tmp2[y, min(x+1, W-1)] - _tmp2[y, min(x+1, W-1)] * _tmp2[max(y-1, 0), min(x+1, W-1)] * _tmp2[max(y-1, 0), x])\n",
    "                c += (_tmp2[max(y-1, 0), x] - _tmp2[max(y-1, 0), x] * _tmp2[max(y-1, 0), max(x-1, 0)] * (1 - tmp[y, max(x-1, 0)]))\n",
    "                c += ((1 - tmp[y, max(x-1, 0)]) - (1 - tmp[y, max(x-1, 0)]) * _tmp2[min(y+1, H-1), max(x-1, 0)] * _tmp2[min(y+1, H-1), x])\n",
    "                c += (_tmp2[min(y+1, H-1), x] - _tmp2[min(y+1, H-1), x] * _tmp2[min(y+1, H-1), min(x+1, W-1)] * _tmp2[y, min(x+1, W-1)])\n",
    "                if c == 1 or (out[y, max(x-1, 0)] != tmp[y, max(x-1, 0)]):\n",
    "                    judge += 1\n",
    "                \n",
    "                if judge >= 8:\n",
    "                    out[y, x] = 0\n",
    "                    count += 1\n",
    "                    \n",
    "    out = out.astype(np.uint8) * 255\n",
    "\n",
    "    return out"
   ]
  },
  {
   "cell_type": "code",
   "execution_count": 206,
   "id": "b490c17f-e055-412f-93a8-f68682977ee9",
   "metadata": {},
   "outputs": [
    {
     "data": {
      "image/png": "[encoded data removed]",
      "text/plain": [
       "<Figure size 720x144 with 2 Axes>"
      ]
     },
     "metadata": {
      "needs_background": "light"
     },
     "output_type": "display_data"
    }
   ],
   "source": [
    "h_out = hilditch_thinning(gazo)\n",
    "\n",
    "fig, ax = plt.subplots(1, 2, figsize=(10, 2))\n",
    "ax[0].set_title(\"input\")\n",
    "ax[0].imshow(gazo, cmap=\"gray\")\n",
    "ax[1].set_title(\"output\")\n",
    "ax[1].imshow(out, cmap=\"gray\")\n",
    "plt.show()"
   ]
  },
  {
   "cell_type": "markdown",
   "id": "a64e7e8b-edce-4658-b286-82d389ee7511",
   "metadata": {},
   "source": [
    "## Question 65 Zhang-Suenの細線化\n",
    "\n",
    "gazo_sample.pngにZhang-Suenの細線化を行え。\n",
    "\n",
    "ただし、以下の操作は全て0が線、1が背景とするので、gazo.pngの値を反転させる必要があることに注意。\n",
    "\n",
    "注目画素x1(x,y)に対して8近傍を次のように定義する。\n",
    "\n",
    "||||\n",
    "|---|---|---|\n",
    "|x9| x2| x3| \n",
    "|x8| x1| x4|\n",
    "|x7| x6| x5| \n",
    "\n",
    "これらに対して二つのステップを考える。\n",
    "\n",
    "1. Step 1: \n",
    "    - ラスタスキャンを行い、以下の5条件を満たすピクセルを全て記録する。\n",
    "        - 黒画素である\n",
    "        - x2, x3, ..., x9, x2と時計まわりに見て、0から1に変わる回数がちょうど1\n",
    "        - x2, x3, ..., x9の中で1の個数が2以上6以下\n",
    "        - x2, x4, x6のどれかが1 (x2 * x4 * x6 = 0)\n",
    "        - x4, x6, x8のどれかが1 (x4 * x6 * x8 = 0)\n",
    "    - 記録したピクセルを全て1に変更する。\n",
    "2. Step 2: \n",
    "    - ラスタスキャンを行い、以下の5条件を満たすピクセルを全て記録する。\n",
    "        - 黒画素である\n",
    "        - x2, x3, ..., x9, x2と時計まわりに見て、0から1に変わる回数がちょうど1\n",
    "        - x2, x3, ..., x9の中で1の個数が2以上6以下\n",
    "        - x2, x4, x8のどれかが1 (x2 * x4 * x8 = 0)\n",
    "        - x2, x6, x8のどれかが1 (x2 * x6 * x8 = 0)\n",
    "    - 記録したピクセルを全て1に変更する。\n",
    "3. Step1, 2で変更する点がなくなるまで交互に繰り返す。"
   ]
  },
  {
   "cell_type": "markdown",
   "id": "6019b857-246a-4532-ac3f-48c2143ed2a8",
   "metadata": {},
   "source": [
    "Zhang, T. Y., & Suen, C. Y. (1984). A Fast Parallel Algorithm for Thinning Digital Patterns. Communications of the ACM, 27(3), 236–239.\n",
    "\n",
    "- Step 1 aims at deleting the south-east boundary points and the north-west corner points.\n",
    "- Step 2 aims at deleting the north-west boundary points and the south-east corner points."
   ]
  },
  {
   "cell_type": "code",
   "execution_count": 204,
   "id": "2bdb9198-7ef7-4380-af2d-c10af363bb32",
   "metadata": {},
   "outputs": [],
   "source": [
    "def zhang_suen_thinning(img):\n",
    "    # get shape\n",
    "    H, W = img.shape\n",
    "\n",
    "    # prepare out image\n",
    "    out = np.zeros((H, W), dtype=int)\n",
    "    out[img > 0] = 1\n",
    "\n",
    "    # inverse\n",
    "    out = 1 - out\n",
    "\n",
    "    while True:\n",
    "        s1 = []\n",
    "        s2 = []\n",
    "\n",
    "        # step 1\n",
    "        for y in range(1, H-1):\n",
    "            for x in range(1, W-1):\n",
    "                \n",
    "                # condition 1\n",
    "                if out[y, x] > 0:\n",
    "                    continue\n",
    "\n",
    "                # condition 2\n",
    "                f1 = 0\n",
    "                if (out[y-1, x+1] - out[y-1, x]) == 1:\n",
    "                    f1 += 1\n",
    "                if (out[y, x+1] - out[y-1, x+1]) == 1:\n",
    "                    f1 += 1\n",
    "                if (out[y+1, x+1] - out[y, x+1]) == 1:\n",
    "                    f1 += 1\n",
    "                if (out[y+1, x] - out[y+1,x+1]) == 1:\n",
    "                    f1 += 1\n",
    "                if (out[y+1, x-1] - out[y+1, x]) == 1:\n",
    "                    f1 += 1\n",
    "                if (out[y, x-1] - out[y+1, x-1]) == 1:\n",
    "                    f1 += 1\n",
    "                if (out[y-1, x-1] - out[y, x-1]) == 1:\n",
    "                    f1 += 1\n",
    "                if (out[y-1, x] - out[y-1, x-1]) == 1:\n",
    "                    f1 += 1\n",
    "\n",
    "                if f1 != 1:\n",
    "                    continue\n",
    "                    \n",
    "                # condition 3\n",
    "                f2 = np.sum(out[y-1:y+2, x-1:x+2])\n",
    "                if f2 < 2 or f2 > 6:\n",
    "                    continue\n",
    "                \n",
    "                # condition 4\n",
    "                if out[y-1, x] + out[y, x+1] + out[y+1, x] < 1:\n",
    "                    continue\n",
    "\n",
    "                # condition 5\n",
    "                if out[y, x+1] + out[y+1, x] + out[y, x-1] < 1:\n",
    "                    continue\n",
    "                    \n",
    "                s1.append([y, x])\n",
    "\n",
    "        for v in s1:\n",
    "            out[v[0], v[1]] = 1\n",
    "\n",
    "        # step 2\n",
    "        for y in range(1, H-1):\n",
    "            for x in range(1, W-1):\n",
    "                \n",
    "                # condition 1\n",
    "                if out[y, x] > 0:\n",
    "                    continue\n",
    "\n",
    "                # condition 2\n",
    "                f1 = 0\n",
    "                if (out[y-1, x+1] - out[y-1, x]) == 1:\n",
    "                    f1 += 1\n",
    "                if (out[y, x+1] - out[y-1, x+1]) == 1:\n",
    "                    f1 += 1\n",
    "                if (out[y+1, x+1] - out[y, x+1]) == 1:\n",
    "                    f1 += 1\n",
    "                if (out[y+1, x] - out[y+1,x+1]) == 1:\n",
    "                    f1 += 1\n",
    "                if (out[y+1, x-1] - out[y+1, x]) == 1:\n",
    "                    f1 += 1\n",
    "                if (out[y, x-1] - out[y+1, x-1]) == 1:\n",
    "                    f1 += 1\n",
    "                if (out[y-1, x-1] - out[y, x-1]) == 1:\n",
    "                    f1 += 1\n",
    "                if (out[y-1, x] - out[y-1, x-1]) == 1:\n",
    "                    f1 += 1\n",
    "\n",
    "                if f1 != 1:\n",
    "                    continue\n",
    "                    \n",
    "                # condition 3\n",
    "                f2 = np.sum(out[y-1:y+2, x-1:x+2])\n",
    "                if f2 < 2 or f2 > 6:\n",
    "                    continue\n",
    "                \n",
    "                # condition 4\n",
    "                if out[y-1, x] + out[y, x+1] + out[y, x-1] < 1:\n",
    "                    continue\n",
    "\n",
    "                # condition 5\n",
    "                if out[y-1, x] + out[y+1, x] + out[y, x-1] < 1:\n",
    "                    continue\n",
    "                    \n",
    "                s2.append([y, x])\n",
    "\n",
    "        for v in s2:\n",
    "            out[v[0], v[1]] = 1\n",
    "\n",
    "        # if not any pixel is changed\n",
    "        if len(s1) < 1 and len(s2) < 1:\n",
    "            break\n",
    "\n",
    "    out = 1 - out\n",
    "    out = out.astype(np.uint8) * 255\n",
    "\n",
    "    return out"
   ]
  },
  {
   "cell_type": "code",
   "execution_count": 209,
   "id": "415cc5d7-564d-4bf9-9402-cb522dd8c408",
   "metadata": {},
   "outputs": [
    {
     "data": {
      "image/png": "[encoded data removed]",
      "text/plain": [
       "<Figure size 1080x360 with 3 Axes>"
      ]
     },
     "metadata": {
      "needs_background": "light"
     },
     "output_type": "display_data"
    }
   ],
   "source": [
    "out = zhang_suen_thinning(gazo)\n",
    "\n",
    "fig, ax = plt.subplots(1, 3, figsize=(15, 5))\n",
    "ax[0].set_title(\"input\")\n",
    "ax[0].imshow(gazo, cmap=\"gray\")\n",
    "ax[1].set_title(\"zhang-suen\")\n",
    "ax[1].imshow(out, cmap=\"gray\")\n",
    "ax[2].set_title(\"hilditch\")\n",
    "ax[2].imshow(h_out, cmap=\"gray\")\n",
    "plt.show()"
   ]
  }
 ],
 "metadata": {
  "kernelspec": {
   "display_name": "Python 3",
   "language": "python",
   "name": "python3"
  },
  "language_info": {
   "codemirror_mode": {
    "name": "ipython",
    "version": 3
   },
   "file_extension": ".py",
   "mimetype": "text/x-python",
   "name": "python",
   "nbconvert_exporter": "python",
   "pygments_lexer": "ipython3",
   "version": "3.9.7"
  }
 },
 "nbformat": 4,
 "nbformat_minor": 5
}
