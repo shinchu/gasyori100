{
 "cells": [
  {
   "cell_type": "code",
   "execution_count": 1,
   "id": "2b78a74f-0a63-4cce-a221-0f407a91eb70",
   "metadata": {},
   "outputs": [],
   "source": [
    "import numpy as np\n",
    "import cv2\n",
    "import matplotlib.pyplot as plt\n",
    "from skimage import io"
   ]
  },
  {
   "cell_type": "markdown",
   "id": "c78fd1ae-6c1a-48c3-bc47-2ac5885dc2f7",
   "metadata": {},
   "source": [
    "## Question 60 4-連結数"
   ]
  },
  {
   "cell_type": "markdown",
   "id": "f4108ad2-e9fc-494b-9150-ea370f3d17e4",
   "metadata": {},
   "source": [
    "connect_sample.png を4-連結数により、色分けせよ。\n",
    "\n",
    "4-連結数とは近傍との画素の状態を見る値である。 通常、近傍は注目画素x0(x,y)が0でない場合に対して、次のように定義される。\n",
    "\n",
    "* x4(x-1,y-1) x3(x,y-1) x2(x+1,y-1)\n",
    "* x5(x-1,y) x0(x,y) x1(x+1,y)\n",
    "* x6(x-1,y+1) x7(x,y+1) x8(x+1,y+1)\n",
    "ここで4連結数とは、次式で計算される。\n",
    "\n",
    "* S = (x1 - x1 x2 x3) + (x3 - x3 x4 x5) + (x5 - x5 x6 x7) + (x7 - x7 x8 x1)\n",
    "\n",
    "S = [0,4]の範囲をとり、\n",
    "\n",
    "* S = 0 は内部点\n",
    "* S = 1 は端点\n",
    "* S = 2 は連結点\n",
    "* S = 3 は分岐点\n",
    "* S = 4 は交差点 を示す。"
   ]
  },
  {
   "cell_type": "code",
   "execution_count": 10,
   "id": "999ce6ff-5add-4900-9ffa-943f8b9487ca",
   "metadata": {},
   "outputs": [],
   "source": [
    "def connect_4(img):\n",
    "    h, w = img.shape\n",
    "    \n",
    "    tmp = np.zeros((h, w), dtype=int)\n",
    "    \n",
    "    tmp[img > 0] = 1\n",
    "    \n",
    "    out = np.zeros((h, w, 3), dtype=np.uint8)\n",
    "    \n",
    "    for y in range(h):\n",
    "        for x in range(w):\n",
    "            if tmp[y, x] == 0:\n",
    "                continue\n",
    "            \n",
    "            x1 = tmp[y, min(x+1, w-1)]\n",
    "            x2 = tmp[max(y-1, 0), min(x+1, w-1)]\n",
    "            x3 = tmp[max(y-1, 0), x]\n",
    "            x4 = tmp[max(y-1, 0), max(x-1, 0)]\n",
    "            x5 = tmp[y, max(x-1, 0)]\n",
    "            x6 = tmp[min(y+1, h-1), max(x-1, 0)]\n",
    "            x7 = tmp[min(y+1, h-1), x]\n",
    "            x8 = tmp[min(y+1, h-1), min(x+1, w-1)]\n",
    "            \n",
    "            S = (x1 - x1 * x2 * x3) + (x3 - x3 * x4 * x5) + (x5 - x5 * x6 * x7) + (x7 - x7 * x8 * x1)\n",
    "            \n",
    "            if S == 0:\n",
    "                out[y, x] = [255, 0, 0]\n",
    "            elif S == 1:\n",
    "                out[y, x] = [0, 255, 0]\n",
    "            elif S == 2:\n",
    "                out[y, x] = [0, 0, 255]\n",
    "            elif S == 3:\n",
    "                out[y, x] = [255, 255, 0]\n",
    "            elif S == 4:\n",
    "                out[y, x] = [255, 0, 255]\n",
    "            \n",
    "    out = out.astype(np.uint8)\n",
    "    return out"
   ]
  },
  {
   "cell_type": "code",
   "execution_count": 6,
   "id": "07b097fe-adb4-4594-86c2-b3f428a6b787",
   "metadata": {},
   "outputs": [],
   "source": [
    "img_connect = io.imread(\"https://github.com/yoyoyo-yo/Gasyori100knock/blob/master/dataset/images/connect_sample.png?raw=true\")"
   ]
  },
  {
   "cell_type": "code",
   "execution_count": 11,
   "id": "04785ade-7c7f-4199-a9f8-9f2b5973339a",
   "metadata": {},
   "outputs": [
    {
     "data": {
      "text/plain": [
       "<matplotlib.image.AxesImage at 0x1390b0f40>"
      ]
     },
     "execution_count": 11,
     "metadata": {},
     "output_type": "execute_result"
    },
    {
     "data": {
      "image/png": "[encoded data removed]",
      "text/plain": [
       "<Figure size 576x360 with 2 Axes>"
      ]
     },
     "metadata": {
      "needs_background": "light"
     },
     "output_type": "display_data"
    }
   ],
   "source": [
    "plt.figure(figsize=(8, 5))\n",
    "plt.subplot(1, 2, 1)\n",
    "plt.imshow(img_connect, cmap=\"gray\")\n",
    "plt.subplot(1, 2, 2)\n",
    "plt.imshow(connect_4(img_connect))"
   ]
  },
  {
   "cell_type": "markdown",
   "id": "888ba0f4-069d-47ea-8e37-098de1430a4c",
   "metadata": {},
   "source": [
    "## Question 62 8-連結数"
   ]
  },
  {
   "cell_type": "markdown",
   "id": "3f0387ad-6ef6-4321-8c30-319ca0e718c2",
   "metadata": {},
   "source": [
    "connect_sample.pngを8-連結数により、色分けせよ。\n",
    "\n",
    "8連結数とは\n",
    "\n",
    "S = (x1 - x1 x2 x3) + (x3 - x3 x4 x5) + (x5 - x5 x6 x7) + (x7 - x7 x8 x1)\n",
    "\n",
    "において各xの値の0と1を反転させた値を用いる。"
   ]
  },
  {
   "cell_type": "code",
   "execution_count": 12,
   "id": "b8116a0d-bfa1-4b03-8eff-928529e06249",
   "metadata": {},
   "outputs": [],
   "source": [
    "def connect_8(img):\n",
    "    h, w = img.shape\n",
    "    \n",
    "    tmp = np.zeros((h, w), dtype=int)\n",
    "    tmp[img > 0] = 1\n",
    "    tmp = 1 - tmp\n",
    "    \n",
    "    out = np.zeros((h, w, 3), dtype=np.uint8)\n",
    "    \n",
    "    for y in range(h):\n",
    "        for x in range(w):\n",
    "            if tmp[y, x] == 1:\n",
    "                continue\n",
    "            \n",
    "            x1 = tmp[y, min(x+1, w-1)]\n",
    "            x2 = tmp[max(y-1, 0), min(x+1, w-1)]\n",
    "            x3 = tmp[max(y-1, 0), x]\n",
    "            x4 = tmp[max(y-1, 0), max(x-1, 0)]\n",
    "            x5 = tmp[y, max(x-1, 0)]\n",
    "            x6 = tmp[min(y+1, h-1), max(x-1, 0)]\n",
    "            x7 = tmp[min(y+1, h-1), x]\n",
    "            x8 = tmp[min(y+1, h-1), min(x+1, w-1)]\n",
    "            \n",
    "            S = (x1 - x1 * x2 * x3) + (x3 - x3 * x4 * x5) + (x5 - x5 * x6 * x7) + (x7 - x7 * x8 * x1)\n",
    "            \n",
    "            if S == 0:\n",
    "                out[y, x] = [255, 0, 0]\n",
    "            elif S == 1:\n",
    "                out[y, x] = [0, 255, 0]\n",
    "            elif S == 2:\n",
    "                out[y, x] = [0, 0, 255]\n",
    "            elif S == 3:\n",
    "                out[y, x] = [255, 255, 0]\n",
    "            elif S == 4:\n",
    "                out[y, x] = [255, 0, 255]\n",
    "            \n",
    "    out = out.astype(np.uint8)\n",
    "    return out"
   ]
  },
  {
   "cell_type": "code",
   "execution_count": 14,
   "id": "5faf9e17-4db6-4083-88a4-c77f76d804c9",
   "metadata": {},
   "outputs": [
    {
     "data": {
      "text/plain": [
       "<matplotlib.image.AxesImage at 0x139262b50>"
      ]
     },
     "execution_count": 14,
     "metadata": {},
     "output_type": "execute_result"
    },
    {
     "data": {
      "image/png": "[encoded data removed]",
      "text/plain": [
       "<Figure size 576x360 with 2 Axes>"
      ]
     },
     "metadata": {
      "needs_background": "light"
     },
     "output_type": "display_data"
    }
   ],
   "source": [
    "plt.figure(figsize=(8, 5))\n",
    "plt.subplot(1, 2, 1)\n",
    "plt.imshow(img_connect, cmap=\"gray\")\n",
    "plt.subplot(1, 2, 2)\n",
    "plt.imshow(connect_8(img_connect))"
   ]
  },
  {
   "cell_type": "markdown",
   "id": "44932182-cfd8-480e-9eaa-33be380a58ec",
   "metadata": {},
   "source": [
    "## Question 63 細線化処理"
   ]
  },
  {
   "cell_type": "markdown",
   "id": "1ae921c4-5f98-463a-b359-2ff9e17f161c",
   "metadata": {},
   "source": [
    "gazo_sample.png を細線化せよ。\n",
    "\n",
    "細線化とは画素の幅を1にする処理であり、ここでは次のアルゴリズムに沿って処理を行え。\n",
    "\n",
    "左上からラスタスキャンする。 x0(x,y)=0ならば、処理なし。x0(x,y)=1ならば次の3条件を満たす時にx0=0に変える。\n",
    "\n",
    "* 注目画素の4近傍に0が一つ以上存在する\n",
    "* x0の4-連結数が1である\n",
    "* x0の8近傍に1が3つ以上存在する\n",
    "\n",
    "1回のラスタスキャンで2の変更数が0になるまで、ラスタスキャンを繰り返す。\n",
    "\n",
    "細線化にはヒルディッチのアルゴリズム(Q.64)や、Zhang-Suenのアルゴリズム(Q.65)、田村のアルゴリズムなどが存在する。"
   ]
  },
  {
   "cell_type": "code",
   "execution_count": null,
   "id": "17da3247-1751-416b-8ba9-f741f38c03e8",
   "metadata": {},
   "outputs": [],
   "source": [
    "def thinning(img):\n",
    "    h, w = img.shape\n",
    "    \n",
    "    out = np.zeros((h, w), dtype=int)\n",
    "    out[img > 0] = 1\n",
    "    \n",
    "    for y in range(h):\n",
    "        for x in range(w):\n",
    "            if out[y, x] == 0:\n",
    "                continue\n",
    "                \n",
    "            \n",
    "            \n",
    "    "
   ]
  }
 ],
 "metadata": {
  "kernelspec": {
   "display_name": "Python 3",
   "language": "python",
   "name": "python3"
  },
  "language_info": {
   "codemirror_mode": {
    "name": "ipython",
    "version": 3
   },
   "file_extension": ".py",
   "mimetype": "text/x-python",
   "name": "python",
   "nbconvert_exporter": "python",
   "pygments_lexer": "ipython3",
   "version": "3.9.4"
  }
 },
 "nbformat": 4,
 "nbformat_minor": 5
}
